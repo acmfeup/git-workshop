{
 "cells": [
  {
   "cell_type": "markdown",
   "metadata": {},
   "source": [
    "# Git Workshop (approx. 2hours)\n",
    "\n",
    "In this workshop we will learn the basic functionalities of Git and how these can improve our team workflow.\n",
    "Most of this workshop will be conducted using a bash shell and as such some basic command line usage will also be shown and explained.\n",
    "\n",
    "At this point you can decide to use the \n",
    "### Setup (10min)\n",
    "\n",
    "Download [repository files to fix]()\n",
    "\n",
    "<span style=\"text-decoration:underline\">Software Requirements:</span>\n",
    "\n",
    "Bash Shell\n",
    "\n",
    "Git - [Download Here](https://git-scm.com/downloads)\n",
    "\n",
    "Windows Remarks:\n",
    "- Git provides a usable Bash shell after installation\n",
    "- Microsoft provides an integrated Linux subsystem through it's [store](https://www.microsoft.com/store/productId/9NBLGGH4MSV6)\n",
    "\n",
    "Bash Remarks:\n",
    "- Most commands in bash work in the format: <command name\\> [sub commands] [-options] [...parameters]\n",
    "- Whenever in doubt of how a command exactly works, most have a manual page with details about options and specific parameter patterns. You can access the manual page by runing \"man <command name\\>\", i.e. \"man ls\". Some commands have similar names and may require a number after the command name to access the correct manual page.\n",
    "- Bash provides pipe like operators by default, these include \">>\", \">\" and \"|\".\n",
    "- Bash is a great tool for scripting so you can make the most of the operators mentioned in the point above to make complex operations using more than one command to get from input to output and do a series of commands all in a row using the \";\" operator.\n",
    "    \n",
    "\n",
    "### 1 - Creating a repository \n",
    "\n",
    "The first step in using git is creating a repository. The concept of repository is just like a file system, very similiar to the one you have in your own computer. The special thing about git repositories is that they contain some extra information in a folder named \".git\" that will allow us to do a lot more and a lot easier than what we could with a regular file system. To experience this difference let's create a new folder and initiate an empty repository inside it."
   ]
  },
  {
   "cell_type": "code",
   "execution_count": null,
   "metadata": {},
   "outputs": [],
   "source": [
    "# TO REMOVE\n",
    "cd git-workshop"
   ]
  },
  {
   "cell_type": "code",
   "execution_count": null,
   "metadata": {},
   "outputs": [],
   "source": [
    "rm -rf my-first-repo"
   ]
  },
  {
   "cell_type": "code",
   "execution_count": null,
   "metadata": {},
   "outputs": [],
   "source": [
    "# create a directory called my-first-repo\n",
    "mkdir my-first-repo\n",
    "\n",
    "# enter that directory\n",
    "cd my-first-repo\n",
    "\n",
    "# initialize a git repository\n",
    "git init"
   ]
  },
  {
   "cell_type": "markdown",
   "metadata": {},
   "source": [
    "You just created your first repository. Let's see what's inside. \n",
    "\n",
    "**Disclaimer:** it's empty."
   ]
  },
  {
   "cell_type": "code",
   "execution_count": null,
   "metadata": {},
   "outputs": [],
   "source": [
    "# list the files in the current directory\n",
    "ls -la"
   ]
  },
  {
   "cell_type": "markdown",
   "metadata": {},
   "source": [
    "You should see 3 entries:\n",
    "- `.` - a single dot. Represents the current directory;\n",
    "- `..` - two dots. Represents the parent directory;\n",
    "- `.git` - The special directory we mentioned above. This is how Git knows the current directory is also a Git repository."
   ]
  },
  {
   "cell_type": "markdown",
   "metadata": {},
   "source": [
    "__Tip__: the `-la` option shoes the output as a list and shows hidden files, i.e., files starting with a dot `.`."
   ]
  },
  {
   "cell_type": "markdown",
   "metadata": {},
   "source": [
    "#### 1.1 Command breakdown:\n",
    "**`mkdir`** - **M**a**k**e **Dir**ectory, a command used to create a new directory or folder as most commonly refered to. The singular parameter with no options will be the name of the new empty directory.\n",
    "\n",
    "**`cd`** - **C**hange **D**irectory, used to change the current working directory, translates to opening a folder in a GUI (Graphical User Interface). Again, the singular parameter will be the name of the directory to change into.\n",
    "\n",
    "**`git init`** - This time we have two important words although the same pattern of command (git) and parameter (init) follows. Since git provides a lot of funcionality it is broken down in a lot of \"subcommands\" of **git** which by themselves also support arguments and options. In this case, **git init** creates an empty repository."
   ]
  },
  {
   "cell_type": "markdown",
   "metadata": {},
   "source": [
    "### 2 - Your first commit\n",
    "\n",
    "Now that we have a repository, you should add files to it, typically from a project you're working on.\n",
    "\n",
    "Let's copy some files from a sample project - `messy-files` - to our repository."
   ]
  },
  {
   "cell_type": "code",
   "execution_count": null,
   "metadata": {},
   "outputs": [],
   "source": [
    "# copy \"messy files\" to the current directory, i.e., '.'\n",
    "cp  -R ../messy-files/** .\n",
    "ls -la"
   ]
  },
  {
   "cell_type": "markdown",
   "metadata": {},
   "source": [
    "You should see the following files:\n",
    "- check_bullet.png\n",
    "- index.html\n",
    "- js1.js\n",
    "- js2.js\n",
    "- lib1.lib\n",
    "- lib2.lib\n",
    "- style1.css\n",
    "- style2.css"
   ]
  },
  {
   "cell_type": "markdown",
   "metadata": {},
   "source": [
    "Ok, so we just added a bunch of files to our directory. \n",
    "\n",
    "We have not yet told Git to track them - we can check this through the `git status` command."
   ]
  },
  {
   "cell_type": "code",
   "execution_count": null,
   "metadata": {},
   "outputs": [],
   "source": [
    "git status"
   ]
  },
  {
   "cell_type": "markdown",
   "metadata": {},
   "source": [
    "Let's tell Git to track *all* of the files we just added."
   ]
  },
  {
   "cell_type": "code",
   "execution_count": null,
   "metadata": {},
   "outputs": [],
   "source": [
    "# add all changes to the staging area\n",
    "git add -A\n",
    "\n",
    "# check status again\n",
    "git status"
   ]
  },
  {
   "cell_type": "markdown",
   "metadata": {},
   "source": [
    "Finally, let's _commit_ our changes."
   ]
  },
  {
   "cell_type": "code",
   "execution_count": null,
   "metadata": {},
   "outputs": [],
   "source": [
    "git commit -m \"my first commit\""
   ]
  },
  {
   "cell_type": "markdown",
   "metadata": {},
   "source": [
    "#### 2.1 Command Breakdown:\n",
    "**`git status`** - Displays generic information as well as the current status of the working tree and staging area of the repository.\n",
    "\n",
    "**`git add [file/directory]`** - Used to select changes in our _working tree_ to be added to the _staging area_. The working tree is the local file system part that's included in our git repository and the staging area is an abstraction of git that represents the changes when executing a `commit` command. The `-A` option stands for _all_ and means all changes in the working tree are added to the staging area.\n",
    "\n",
    "**`git commit`** - As the name says we are commiting to a change we made to the repository, once you commit the state of the repository will be registered and you can always restore it or check differences to the current state. Commits can be deleted but its not something you do on a regular basis as it's usualy easier to fix something rather than redoing everything else. The \"m\" lets you add a message to your commit, these should usualy follow a protocol that lets you quicky understand what's beed added removed or modified with that commit."
   ]
  },
  {
   "cell_type": "markdown",
   "metadata": {},
   "source": [
    "We have finally committed a change to our repository. This means it is now part of the repository and will be registered in the logs unless it's explicitly deleted (a process too complex for this workshop)"
   ]
  },
  {
   "cell_type": "code",
   "execution_count": null,
   "metadata": {},
   "outputs": [],
   "source": [
    "git log\n",
    "git log --oneline -1\n",
    "git log -1 -p"
   ]
  },
  {
   "cell_type": "markdown",
   "metadata": {},
   "source": [
    "#### 2.2 Command Breakdown\n",
    "**`git log`** - The log command is a very powerfull one as it allows you to review the full history of your repository from the moment the init command was executed. There are several more options than the one ilustrated here. \"oneline\" is used to view each commit in a single line, \\<natural> is used to review only the n lastest commits and \"p\" (patch) displays each commit's difference in the format of addition and deletions. ***WARNING***, if you ever commit a password or secret information to a repository even if you delete it in a later commit it will always be registered in the log as long as that commit is not deleted. This is a security risk in case anyone gets access to the .git directory. Secret information should be kept in a separate directory to the rest of the code and online platforms often offer support for secrets to be safely shared between developers."
   ]
  },
  {
   "cell_type": "markdown",
   "metadata": {},
   "source": [
    "### 3 - Making changes and updating the repository"
   ]
  },
  {
   "cell_type": "markdown",
   "metadata": {},
   "source": [
    "Having all files in the root directory is very messy and hard to work with so, to sort our files, lets now create 3 folders: `css`, `js`, and `lib`. Move each file to its respective folder according to its extension."
   ]
  },
  {
   "cell_type": "code",
   "execution_count": null,
   "metadata": {},
   "outputs": [],
   "source": [
    "# create the three directories\n",
    "mkdir css\n",
    "mkdir js\n",
    "mkdir lib\n",
    "\n",
    "# move all JavaScript files to the js directory\n",
    "mv *.js js\n",
    "# move all CSS files to the css directory\n",
    "mv *.css css\n",
    "# move all .lib files to the lib directory\n",
    "mv *.lib lib\n",
    "\n",
    "# list current directory\n",
    "ls -la"
   ]
  },
  {
   "cell_type": "markdown",
   "metadata": {},
   "source": [
    "#### 3.1 Command Breakdown\n",
    "**`mkdir`** - Already covered [here](#1.1-Command-Breakdown:)\n",
    "\n",
    "(TODO below)\n",
    "\n",
    "**`mv`** - **M**o**v**e, the same idea as presented [here](#Command-Breakdown:) but with some extra functionality. We attempt to move a file names \\*.js and although we have no file named exactly like that, all files that end in  \".js\" are moved. The * symbol is reserved in regular expressions as a wildcard so any number of any characters is represented by \\*, in this case, it means any file independently of its name will be selected to move as long as it ends in \".js\". The same aplies for the other terminations"
   ]
  },
  {
   "cell_type": "markdown",
   "metadata": {},
   "source": [
    "By changing the files in the "
   ]
  },
  {
   "cell_type": "code",
   "execution_count": null,
   "metadata": {},
   "outputs": [],
   "source": [
    "git status"
   ]
  },
  {
   "cell_type": "code",
   "execution_count": null,
   "metadata": {},
   "outputs": [],
   "source": [
    "git add -A\n",
    "git status"
   ]
  },
  {
   "cell_type": "markdown",
   "metadata": {},
   "source": [
    "As expected git add with option -A will add all files to our staging area which in most cases is not desirable, especially when setting up a repository with a complex project with loads of non-code files."
   ]
  },
  {
   "cell_type": "code",
   "execution_count": null,
   "metadata": {},
   "outputs": [],
   "source": [
    "git reset\n",
    "git add index.html\n",
    "git commit -m \"Initial Commit\""
   ]
  },
  {
   "cell_type": "markdown",
   "metadata": {},
   "source": [
    "#### 3.2 Command Breakdown\n",
    "**git reset** - using this command without arguments will alow us to reset the staging area mening the files we just added using. **git add** will be removed but the working tree will stay the same. ***WARNING***, the reset command provides a lot more functionality which at times may even delete changed you've made to the working tree and subsequently all work still haven't commited, just make sure you know what exactly you are doing before using it.\n",
    "\n",
    "**git add** - Adding was covered [here]() with an option, now using an argument we will just add the file that matches the parameter"
   ]
  },
  {
   "cell_type": "markdown",
   "metadata": {},
   "source": [
    "We have finally committed a change to our repository. This means it is now part of the repository and will be registered in the logs unless it's explicitly deleted (a process too complex for this workshop)"
   ]
  },
  {
   "cell_type": "code",
   "execution_count": null,
   "metadata": {},
   "outputs": [],
   "source": [
    "git log\n",
    "git log --oneline -1\n",
    "git log -1 -p"
   ]
  },
  {
   "cell_type": "markdown",
   "metadata": {},
   "source": [
    "#### 3.3 Command Breakdown\n",
    "**git log** - The log command is a very powerfull one as it allows you to review the full history of your repository from the moment the init command was executed. There are several more options than the one ilustrated here. \"oneline\" is used to view each commit in a single line, \\<natural> is used to review only the n lastest commits and \"p\" (patch) displays each commit's difference in the format of addition and deletions. ***WARNING***, if you ever commit a password or secret information to a repository even if you delete it in a later commit it will always be registered in the log as long as that commit is not deleted. This is a security risk in case anyone gets access to the .git directory. Secret information should be kept in a separate directory to the rest of the code and online platforms often offer support for secrets to be safely shared between developers."
   ]
  },
  {
   "cell_type": "markdown",
   "metadata": {},
   "source": [
    "So to fix the problem of adding unnecessary files there is a quite simple solution! Git works with a **.gitignore** file where we can explicitly say which paths should be ignored by Git. Let's try a simple one for this project."
   ]
  },
  {
   "cell_type": "code",
   "execution_count": null,
   "metadata": {},
   "outputs": [],
   "source": [
    "git status\n",
    "echo \"/lib\" >> .gitignore\n",
    "ls -la\n",
    "git status\n",
    "git add -A\n",
    "git commit -m \"Add javascript and css folders\""
   ]
  },
  {
   "cell_type": "markdown",
   "metadata": {},
   "source": [
    "#### Command Breakdown\n",
    "**echo** - This command is used to print information to the shell. When combined with the \">>\" pipe it is very useful to dump information in files. So, the complete command writes the \"/lib\" which is redirected using \">>\" to the file named \".gitignore\", if the file doesn't exist it is created. The pipe \">\" also exists and the difference is that it appends while \">>\" overwrites the whole file if it already exists. Obviously, further on you will ignore files using the \\\">\\\" pipe."
   ]
  },
  {
   "cell_type": "markdown",
   "metadata": {},
   "source": [
    "### 4 - Branching and Merging for Parallel Work (15min)\n",
    "\n",
    "Branching is the great feature of Git that will allow us to work in parallel in different or even similar sections of code with relative independance. This feature is highly useful for team-based projects, where someone needs to work on one section without interfeering with others' sections. To start with lets check what branches we currently have and create a new one both using the **branch** command. To edit our styles2.css file we want to use the new branch so we need to **checkout** that one and use **branch** again just to make sure we are now in the correct branch."
   ]
  },
  {
   "cell_type": "code",
   "execution_count": null,
   "metadata": {},
   "outputs": [],
   "source": [
    "git branch\n",
    "git branch improve_styles2\n",
    "git checkout improve_styles2\n",
    "git branch"
   ]
  },
  {
   "cell_type": "markdown",
   "metadata": {},
   "source": [
    "#### 4.1 Command Breakdown:\n",
    "**git branch** - The branch command with no arguments will display the list of local branches and signal which one is currently selected. When we use **branch** with an argument it will create a new branch with that name.\n",
    "\n",
    "**git checkout** - Checkout combined with branching is one of the features that makes git a lot more powerfull that just any file system. With checkout we can immediatly change our working tree to a different branch or commit this allows imense flexibility without having to worry about losing code or having to keep track of changes to see how things were working before. The only point to keep in mind is that your working tree will be deleted so any changes you haven't commited or stored in other ways will be lost forever (git provides a couple ways to make this happen but we won't cover them, you can lookup shelving and stashing)."
   ]
  },
  {
   "cell_type": "markdown",
   "metadata": {},
   "source": [
    "As the star indicates we are currently working in our new branch. So lets edit our styles2.css file to make the text-align property to be \"center\" instead of \"unset\", then commit your changes when done."
   ]
  },
  {
   "cell_type": "code",
   "execution_count": null,
   "metadata": {},
   "outputs": [],
   "source": [
    "# TODO: edit file from terminal\n",
    "#(edit styles2.css)\n",
    "git add css/styles2.css\n",
    "git commit -m \"Improve styles2\""
   ]
  },
  {
   "cell_type": "markdown",
   "metadata": {},
   "source": [
    "#### 4.2 Command Breakdown\n",
    "**git add** - Referenced [here](#3.2-Command-Breakdown)\n",
    "\n",
    "**git commit** - Referenced [here](#3.2-Command-Breakdown)"
   ]
  },
  {
   "cell_type": "markdown",
   "metadata": {},
   "source": [
    "We will now return to our master branch and assume another person, who is not as experienced using Git already edited the same file in this branch."
   ]
  },
  {
   "cell_type": "code",
   "execution_count": null,
   "metadata": {},
   "outputs": [],
   "source": [
    "git checkout master\n",
    "\n",
    "# TODO: edit file from terminal (?)\n",
    "##(edit styles2.css so that text-align is different than \"center\")\n",
    "\n",
    "git add css/styles2.css\n",
    "git commit -m \"Improve styles2 in master (bc idk what i'm doing)\""
   ]
  },
  {
   "cell_type": "markdown",
   "metadata": {},
   "source": [
    "#### 4.3 Command Breakdown\n",
    "**git checkout** - Referenced [here](#4.1-Command-Breakdown)\n",
    "\n",
    "**git add** - Referenced [here](#3.2-Command-Breakdown)\n",
    "\n",
    "**git commit** - Referenced [here](#3.2-Command-Breakdown)"
   ]
  },
  {
   "cell_type": "markdown",
   "metadata": {},
   "source": [
    "We will now try to merge our changes in branch \"improve_styles2\" with our master branch and will run into a merge conflict because the same part of the same file has been edited in the two branhces (master and improve_styles2). At this stage we can make use of git status to make sure what our problems are and address them.\n",
    "\n",
    "To solve this problem there are various possible solution but the result is always the same, we have to edit the styles2.css file and remove the characters added by Git signaling the conflict. In this situation we will choose to keep our change from branch improve_styles2."
   ]
  },
  {
   "cell_type": "code",
   "execution_count": null,
   "metadata": {},
   "outputs": [],
   "source": [
    "## TODO: split these commands?\n",
    "\n",
    "git merge improve_styles2\n",
    "##(conflicts showup, merge is interrupted)\n",
    "git status\n",
    "##(edit styles2.css)\n",
    "git add css/styles2.css\n",
    "\n",
    "##(after all conflicts are resolved we may continue the merge with the command below or perform an explicit commit)\n",
    "git merge --continue\n",
    "git status"
   ]
  },
  {
   "cell_type": "markdown",
   "metadata": {},
   "source": [
    "#### 5.4 Command Breakdown\n",
    "**git merge** - Merge is one of the most powerful commands in git. As the name indicates it alows us to merge or bring together two different versions of our files. It wil try to automatically put together and resolve differences in the files from the parameter branch and into our current branch. There are several options you an explore and even specific strategies to use when merging, but it's never perfect and conflicts can arise often as you've experienced. After the command is succsessfully completed the current branch will be up to date with all the changes made in the parameter branch.\n",
    "\n",
    "**git status** - Referenced [here](#3.1-Command-Breakdown)\n",
    "\n",
    "**git add** - Referenced [here](#3.2-Command-Breakdown)"
   ]
  },
  {
   "cell_type": "markdown",
   "metadata": {},
   "source": [
    "### 6 - Remote repository (25min)\n",
    "\n",
    "Git works well at a local level but it wouldn't mean much if we couldn't work with other people. So we want to make our repository available online. In this workshop we will make use of GitHub an online free-to-use platform for hosting git repositories. Start by creating your accounts (if you don't have one already). Create an <strong>empty</strong> repository with a name of your choosing. After completing this steps lets add this repository as the remote for the local one we have been working on.\n"
   ]
  },
  {
   "cell_type": "code",
   "execution_count": null,
   "metadata": {},
   "outputs": [],
   "source": [
    "git remote add origin git@github.com:[yourusername]/[repositoryname].git\n",
    "git remote -v\n",
    "git push origin master"
   ]
  },
  {
   "cell_type": "markdown",
   "metadata": {},
   "source": [
    "#### 6.1 Command Breakdown\n",
    "**git remote add** - The **git remote** command provides access to network accessable repositories and all configurations related to these. Here we make use of subcommand add to register our GitHub repository, with the name \\\"origin\\\" as a remote instance of the local repository we have been working on.\n",
    "\n",
    "**git push** - The git push command is used to update remote repositories with our local changes. This time we are pushing our changes to the local master branch to the remote repository we named origin and the branch master.  This can originate conflicts in case someone already pushed changes to the same branch we are using and we still haven't updated our local version with those."
   ]
  },
  {
   "cell_type": "markdown",
   "metadata": {},
   "source": [
    "As expected you get an authentication error because the Github remote we just set up needs ssh keys to work. The pair of public/private keys that is generated allows git hub to verify that it's you who is accessing the repository and hence guarantee authentication without username/password. The way to generate these is runnign following command:\n"
   ]
  },
  {
   "cell_type": "code",
   "execution_count": null,
   "metadata": {},
   "outputs": [],
   "source": [
    "# GitHub recomends the following key generation method, however, you can stick with just ssh-keygen\n",
    "ssh-keygen -t rsa -b 4096 -C \\\"your_email@example.com\\\"\n",
    "\n",
    "cat ~/.ssh/id_rsa.pub #(or the save path you specified)\n",
    "ssh-add ~/.ssh/id_rsa"
   ]
  },
  {
   "cell_type": "markdown",
   "metadata": {},
   "source": [
    "#### 6.2 Command Breakdown\n",
    "\n",
    "**ssh-keygen** - ssh-keygen is a command that comes pre-installed with most linux distributions and provides an user friendly way of generating several types of encryption keys. In this example we use the default key pair, RSA, and recommend using the default save path and you may choose to protect the key with a password. Encryption keys are a complex subject that veer too much from the topic of this workshop so we suggest you look these up by yourself.\n",
    "\n",
    "**cat** - Con**cat**tenate, is a very flexible command that we are using to display the contents of the file that contains the public part of the key pair we just generated. It's very important to remember that we should only ever share the public pieces of any key as having access to the private one would mean we could be impersonated by the holder of that key. Most key files are named \\\".pub\\\" to signal they are the public part of the key.\n",
    "\n",
    "**ssh-add** - ssh-add, as the name implies, **add**s the **ssh** key to the ssh-agent, that, if not running, start it in the background by running `eval \"$(ssh-agent -s)\"`"
   ]
  },
  {
   "cell_type": "markdown",
   "metadata": {},
   "source": [
    "\n",
    "Using the cat command we can now copy the generated **public key** and copy it into the github configuration in the \"SSH and GPG Keys\" section in settings. We should now be able to freely access our repository!\n"
   ]
  },
  {
   "cell_type": "code",
   "execution_count": null,
   "metadata": {},
   "outputs": [],
   "source": [
    "git push origin master\n",
    "git push\n",
    "\n",
    "# TODO: split these?\n",
    "# (fails due to the lack of a default upstream, lets set it)\n",
    "git branch -u origin/master"
   ]
  },
  {
   "cell_type": "markdown",
   "metadata": {},
   "source": [
    "#### 6.3 Command Breakdown\n",
    "**git push** - push should now use the registered ssh key for authentication in GitHub, but if we use push with no arguments we will get an error that we have no registered upstream for the current branch. That happens because push uses the remote named origin by default but has no specific knowledge of the branch we want to push our local master to.\n",
    "\n",
    "**git branch** - Using **branch** with the option \\\"u\\\" (upstream) we can set the corresponding remote for our local master in the origin remote's master branch"
   ]
  },
  {
   "cell_type": "markdown",
   "metadata": {},
   "source": [
    "\n",
    "Lets now assume someone else made a change to our repository and we want to get those changes in our own computer. To simulate this lets use GitHub to add a README.md file in our main repository page. Afterwards in our computer we can use fetch to retrieve all updates from our repository without changing the working tree. For the changes to take effect we must merge them.\n"
   ]
  },
  {
   "cell_type": "code",
   "execution_count": null,
   "metadata": {},
   "outputs": [],
   "source": [
    "git fetch\n",
    "git log --oneline --all\n",
    "git merge origin/master\n",
    "git log --oneline --all"
   ]
  },
  {
   "cell_type": "markdown",
   "metadata": {},
   "source": [
    "**git fetch** - This command will get all the changes from the default remote (with no parameters) but will not change our local working tree, in other words it just retrieves all the changes that have been made to the remote without ever changing any local files.\n",
    "\n",
    "**git merge** - Referenced [here](#5.4-Command-Breakdown)\n",
    "\n",
    "**git log** - Referenced [here](#4.3-Command-Breakdown)"
   ]
  },
  {
   "cell_type": "markdown",
   "metadata": {},
   "source": [
    "The process of fetching and merging can be reduced to the **git pull** command which will perform both of these commands and try to merge changes automatically.\n",
    "\n",
    "If you want to improve this workshop, or just to check it out on GitHub (you can also leave a star ⭐), you can do it [here](https://github.com/acmfeup/git-workshop).\n",
    "\n",
    "If you enjoyed this workshop and would like to help us creating more projects, workshops, conferences and others, please do not hesitate in contacting us through one of our various social media platforms, or emailing us @ [neacm@fe.up.pt](mailto:neacm@fe.up.pt)."
   ]
  }
 ],
 "metadata": {
  "kernelspec": {
   "display_name": "Bash",
   "language": "bash",
   "name": "bash"
  },
  "language_info": {
   "codemirror_mode": "shell",
   "file_extension": ".sh",
   "mimetype": "text/x-sh",
   "name": "bash"
  }
 },
 "nbformat": 4,
 "nbformat_minor": 4
}
