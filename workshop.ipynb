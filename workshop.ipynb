{
 "cells": [
  {
   "cell_type": "markdown",
   "metadata": {},
   "source": [
    "# Git Workshop (approx. 2hours)\n",
    "\n",
    "In this workshop we will learn the basic functionalities of Git and how these can improve our team workflow.\n",
    "Most of this workshop will be conducted using a bash shell and as such some basic command line usage will also be exposed\n",
    "\n",
    "TODO: setup irrelevant?\n",
    "### Setup (10min)\n",
    "\n",
    "Download [repository files to fix]()\n",
    "\n",
    "<span style=\"text-decoration:underline\">Software Requirements:</span>\n",
    "\n",
    "Bash Shell\n",
    "\n",
    "Git - [Download Here](https://git-scm.com/downloads)\n",
    "\n",
    "Wondows Remarks:\n",
    "- Git provides a usable Bash shell after installation\n",
    "- Microsoft provides an integrated Linux subsystem through it's [store](https://www.microsoft.com/store/productId/9NBLGGH4MSV6)\n",
    "\n",
    "### Create a repository (5min)\n",
    "\n",
    "The first step in using git is creating a repository. For this end we will create a new folder and initiate an empty repository inside it"
   ]
  },
  {
   "cell_type": "code",
   "execution_count": null,
   "metadata": {},
   "outputs": [],
   "source": [
    "mkdir MyGitWorkshop\n",
    "cd MyGitWorkshop\n",
    "git init"
   ]
  },
  {
   "cell_type": "markdown",
   "metadata": {},
   "source": [
    "### Sorting Files in our repository (10min)\n",
    "\n",
    "Now that we have a repository we should add files to it. Lets start by moving our downloaded zip file and decompressing it in our repository folder"
   ]
  },
  {
   "cell_type": "code",
   "execution_count": null,
   "metadata": {},
   "outputs": [],
   "source": [
    "mv RepositoryThatNeedsFixing.zip MyGitWorkshop\n",
    "(unzip the archive)\n",
    "7z x RepositoryThatNeedsFixing.zip"
   ]
  },
  {
   "cell_type": "markdown",
   "metadata": {},
   "source": [
    "Using the ls command we can list the files in the directory. After confirming that we successfully extracted the necessary files we proceed to removing the, no longer required, zip archive."
   ]
  },
  {
   "cell_type": "code",
   "execution_count": null,
   "metadata": {},
   "outputs": [],
   "source": [
    "ls -la\n",
    "rm RepositoryThatNeedsFixing.zip"
   ]
  },
  {
   "cell_type": "markdown",
   "metadata": {},
   "source": [
    "Now to sort our files, lets create 3 folders css, js, lib. Move each file to their respective folder accordingly to the it's extension."
   ]
  },
  {
   "cell_type": "code",
   "execution_count": null,
   "metadata": {},
   "outputs": [],
   "source": [
    "mkdir css\n",
    "mkdir js\n",
    "mkdir lib\n",
    "mv *.js js\n",
    "mv *.css css\n",
    "mv *.lib lib"
   ]
  },
  {
   "cell_type": "markdown",
   "metadata": {},
   "source": [
    "### Adding files to our repository (15min)\n",
    "\n",
    "Our repository is still empty so lets add all our files in one go (definetly not advisable but lets see why later)"
   ]
  },
  {
   "cell_type": "code",
   "execution_count": null,
   "metadata": {},
   "outputs": [],
   "source": [
    "git add -A\n",
    "git status"
   ]
  },
  {
   "cell_type": "markdown",
   "metadata": {},
   "source": [
    "As expected git add with option -A will add all files to our staging area which in most cases is not desirable, especially when setting up a repository with a complex project with loads of non-code files."
   ]
  },
  {
   "cell_type": "code",
   "execution_count": null,
   "metadata": {},
   "outputs": [],
   "source": [
    "git reset\n",
    "git add index.html\n",
    "git commit -m \"Initial Commit\""
   ]
  },
  {
   "cell_type": "markdown",
   "metadata": {},
   "source": [
    "We have finally committed a change to our repository. This means it is now part of the repository and will be registered in the logs unless it's explicitly deleted (a process too complex for this workshop)"
   ]
  },
  {
   "cell_type": "code",
   "execution_count": null,
   "metadata": {},
   "outputs": [],
   "source": [
    "git log\n",
    "git log --oneline -1\n",
    "git log -1 -p"
   ]
  },
  {
   "cell_type": "markdown",
   "metadata": {},
   "source": [
    "So to fix the problem of adding unnecessary files there is a quite simple solution! Git works with a .gitignore file where we can explicitly say which paths should be ignored by Git. Let's try a simple one for this project."
   ]
  },
  {
   "cell_type": "code",
   "execution_count": null,
   "metadata": {},
   "outputs": [],
   "source": [
    "git status\n",
    "echo \"/lib\" >> .gitignore\n",
    "git status\n",
    "git add -A\n",
    "git commit -m \"Add javascript and css folders\""
   ]
  },
  {
   "cell_type": "markdown",
   "metadata": {},
   "source": [
    "### Branching and Merging for Parallel Work (15min)\n",
    "\n",
    "Branching is the great feature of Git that will allow us to work in parallel in different or even similar sections of code with relative independance. To start with lets check what branches we currently have and create a new one to edit our styles2.css file."
   ]
  },
  {
   "cell_type": "code",
   "execution_count": null,
   "metadata": {},
   "outputs": [],
   "source": [
    "git branch\n",
    "git branch improve_styles2\n",
    "git checkout improve_styles2\n",
    "git branch"
   ]
  },
  {
   "cell_type": "markdown",
   "metadata": {},
   "source": [
    "As the star indicates we are currently working in our new branch. So lets edit our styles2.css file to make the text-align property to be \"center\" instead of \"unset\", then commit your changes when done."
   ]
  },
  {
   "cell_type": "code",
   "execution_count": null,
   "metadata": {},
   "outputs": [],
   "source": [
    "# TODO: edit file from terminal\n",
    "#(edit styles2.css)\n",
    "git add css/styles2.css\n",
    "git commit -m \"Improve styles2\""
   ]
  },
  {
   "cell_type": "markdown",
   "metadata": {},
   "source": [
    "We will now return to our master branch and assume another person, who is not as experienced using Git already edited the same file in this branch."
   ]
  },
  {
   "cell_type": "code",
   "execution_count": null,
   "metadata": {},
   "outputs": [],
   "source": [
    "git checkout master\n",
    "\n",
    "# TODO: edit file from terminal (?)\n",
    "##(edit styles2.css so that text-align is different than \"center\")\n",
    "\n",
    "git add css/styles2.css\n",
    "git commit -m \"Improve styles2 in master (bc idk what i'm doing)\""
   ]
  },
  {
   "cell_type": "markdown",
   "metadata": {},
   "source": [
    "We will now try to merge our changes in branch \"improve_styles2\" with our master branch and will run into a merge conflict because the same part of the same file has been edited in the two branhces (master and improve_styles2). At this stage we can make use of git status to make sure what our problems are and address them.\n",
    "\n",
    "To solve this problem there are various possible solution but the result is always the same, we have to edit the styles2.css file and remove the characters added by Git signaling the conflict. In this situation we will choose to keep our change from branch improve_styles2."
   ]
  },
  {
   "cell_type": "code",
   "execution_count": null,
   "metadata": {},
   "outputs": [],
   "source": [
    "## TODO: split these commands?\n",
    "\n",
    "git merge improve_styles2\n",
    "##(conflicts showup, merge is interrupted)\n",
    "git status\n",
    "##(edit styles2.css)\n",
    "git add css/styles2.css\n",
    "\n",
    "##(after all conflicts are resolved we may continue the merge with the command below or perform an explicit commit)\n",
    "git merge --continue\n",
    "git status"
   ]
  },
  {
   "cell_type": "markdown",
   "metadata": {},
   "source": [
    "### Remote repository (25min)\n",
    "\n",
    "Git works well at a local level but it wouldn't mean much if we couldn't work with other people. So we want to make our repository available online. In this workshop we will make use of GitHub an online free-to-use platform for hosting git repositories. Start by creating your accounts (if you don't have one already). Create an <strong>empty</strong> repository with a name of your choosing. After completing this steps lets add this repository as the remote for the local one we have been working on.\n"
   ]
  },
  {
   "cell_type": "code",
   "execution_count": null,
   "metadata": {},
   "outputs": [],
   "source": [
    "git remote add origin git@github.com:[yourusername]/[repositoryname].git\n",
    "git remote -v\n",
    "git push origin master"
   ]
  },
  {
   "cell_type": "markdown",
   "metadata": {},
   "source": [
    "As expected you get an authentication error because the Github remote we just set up needs ssh keys to work. The pair of public/private keys that is generated allows git hub to verify that it's you who is accessing the repository and hence guarantee authentication without username/password. The way to generate these is runnign following command:\n"
   ]
  },
  {
   "cell_type": "code",
   "execution_count": null,
   "metadata": {},
   "outputs": [],
   "source": [
    "# TODO: split these?\n",
    "ssh-keygen\n",
    "\n",
    "cat ~/.ssh/id_rsa.pub #(or the save path you specified)"
   ]
  },
  {
   "cell_type": "markdown",
   "metadata": {},
   "source": [
    "\n",
    "Using the cat command we can now copy the generated key and copy it into the github configuration in the \"SSH and GPG Keys\" section in settings. We should now be able to freely access our repository!\n"
   ]
  },
  {
   "cell_type": "code",
   "execution_count": null,
   "metadata": {},
   "outputs": [],
   "source": [
    "git push origin master\n",
    "git push\n",
    "\n",
    "# TODO: split these?\n",
    "# (fails due to the lack of a default upstream, lets set it)\n",
    "git branch -u origin/master"
   ]
  },
  {
   "cell_type": "markdown",
   "metadata": {},
   "source": [
    "\n",
    "Lets now assume someone else made a change to our repository and we want to get those changes in our own computer. To simulate this lets use github hub to add a README.md file in our main repository page. Afterwards in our computer we can use fetch to receive all updates from our repository without changing the working tree. For the changes to take effect we must merge them.\n"
   ]
  },
  {
   "cell_type": "code",
   "execution_count": null,
   "metadata": {},
   "outputs": [],
   "source": [
    "git fetch\n",
    "git log --oneline --all\n",
    "git merge origin/master\n",
    "git log --oneline --all"
   ]
  }
 ],
 "metadata": {
  "kernelspec": {
   "display_name": "Bash",
   "language": "bash",
   "name": "bash"
  },
  "language_info": {
   "codemirror_mode": "shell",
   "file_extension": ".sh",
   "mimetype": "text/x-sh",
   "name": "bash"
  }
 },
 "nbformat": 4,
 "nbformat_minor": 4
}
