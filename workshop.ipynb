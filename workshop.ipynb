{
 "cells": [
  {
   "cell_type": "markdown",
   "metadata": {},
   "source": [
    "# Git Workshop (approx. 2hours)\n",
    "\n",
    "In this workshop we will learn the basic functionalities of Git and how these can improve our team workflow.\n",
    "Most of this workshop will be conducted using a bash shell and as such some basic command line usage will also be shown and explained.\n",
    "\n",
    "At this point you can decide to use the \n",
    "### Setup (10min)\n",
    "\n",
    "Download [repository files to fix]()\n",
    "\n",
    "<span style=\"text-decoration:underline\">Software Requirements:</span>\n",
    "\n",
    "Bash Shell\n",
    "\n",
    "Git - [Download Here](https://git-scm.com/downloads)\n",
    "\n",
    "Windows Remarks:\n",
    "- Git provides a usable Bash shell after installation\n",
    "- Microsoft provides an integrated Linux subsystem through it's [store](https://www.microsoft.com/store/productId/9NBLGGH4MSV6)\n",
    "\n",
    "Bash Remarks:\n",
    "- Most commands in bash work in the format: <command name\\> [sub commands] [-options] [...parameters]\n",
    "- Whenever in doubt of how a command exactly works, most have a manual page with details about options and specific parameter patterns. You can access the manual page by runing \"man <command name\\>\", i.e. \"man ls\". Some commands have similar names and may require a number after the command name to access the correct manual page.\n",
    "- Bash provides pipe like operators by default, these include \">>\", \">\" and \"|\".\n",
    "- Bash is a great tool for scripting so you can make the most of the operators mentioned in the point above to make complex operations using more than one command to get from input to output and do a series of commands all in a row using the \";\" operator.\n",
    "    \n",
    "\n",
    "### 1 - Creating a Repository \n",
    "\n",
    "The first step in using git is creating a repository. The concept of repository is just like a file system, very similiar to the one you have in your own computer. The special thing about git repositories is that they contain some extra information in a folder named \".git\" that will allow us to do a lot more and a lot easier than what we could with a regular file system. To experience this difference let's create a new folder and initiate an empty repository inside it."
   ]
  },
  {
   "cell_type": "code",
   "execution_count": 2,
   "metadata": {},
   "outputs": [],
   "source": [
    "# TO REMOVE\n",
    "cd ~/dev/git-ws/git-workshop\n",
    "rm -rf my-first-repo"
   ]
  },
  {
   "cell_type": "code",
   "execution_count": 3,
   "metadata": {},
   "outputs": [
    {
     "name": "stdout",
     "output_type": "stream",
     "text": [
      "Initialized empty Git repository in /Users/aa/dev/git-ws/git-workshop/my-first-repo/.git/\n"
     ]
    }
   ],
   "source": [
    "# create a directory called my-first-repo\n",
    "mkdir my-first-repo\n",
    "\n",
    "# enter that directory\n",
    "cd my-first-repo\n",
    "\n",
    "# initialize a git repository\n",
    "git init"
   ]
  },
  {
   "cell_type": "markdown",
   "metadata": {},
   "source": [
    "You just created your first repository. Let's see what's inside. \n",
    "\n",
    "**Disclaimer:** it's empty."
   ]
  },
  {
   "cell_type": "code",
   "execution_count": 4,
   "metadata": {},
   "outputs": [
    {
     "name": "stdout",
     "output_type": "stream",
     "text": [
      "total 0\n",
      "drwxr-xr-x  3 aa staff  96 Mar 29 17:07 .\n",
      "drwxr-xr-x 14 aa staff 448 Mar 29 17:07 ..\n",
      "drwxr-xr-x  9 aa staff 288 Mar 29 17:07 .git\n"
     ]
    }
   ],
   "source": [
    "# list the files in the current directory\n",
    "ls -la"
   ]
  },
  {
   "cell_type": "markdown",
   "metadata": {},
   "source": [
    "You should see 3 entries:\n",
    "- `.` - a single dot. Represents the current directory;\n",
    "- `..` - two dots. Represents the parent directory;\n",
    "- `.git` - The special directory we mentioned above. This is how Git knows the current directory is also a Git repository."
   ]
  },
  {
   "cell_type": "markdown",
   "metadata": {},
   "source": [
    "__Tip__: the `-la` option shoes the output as a list and shows hidden files, i.e., files starting with a dot `.`."
   ]
  },
  {
   "cell_type": "markdown",
   "metadata": {},
   "source": [
    "#### 1.1 Command breakdown:\n",
    "**`mkdir`** - **M**a**k**e **Dir**ectory, a command used to create a new directory or folder as most commonly refered to. The singular parameter with no options will be the name of the new empty directory.\n",
    "\n",
    "**`cd`** - **C**hange **D**irectory, used to change the current working directory, translates to opening a folder in a GUI (Graphical User Interface). Again, the singular parameter will be the name of the directory to change into.\n",
    "\n",
    "**`git init`** - This time we have two important words although the same pattern of command (git) and parameter (init) follows. Since git provides a lot of funcionality it is broken down in a lot of \"subcommands\" of **git** which by themselves also support arguments and options. In this case, **git init** creates an empty repository."
   ]
  },
  {
   "cell_type": "markdown",
   "metadata": {},
   "source": [
    "### 2 - Your First Commit\n",
    "\n",
    "Now that we have a repository, you should add files to it, typically from a project you're working on.\n",
    "\n",
    "Let's copy some files from a sample project - `messy-files` - to our repository."
   ]
  },
  {
   "cell_type": "code",
   "execution_count": 5,
   "metadata": {},
   "outputs": [
    {
     "name": "stdout",
     "output_type": "stream",
     "text": [
      "total 24\n",
      "drwxr-xr-x 11 aa staff  352 Mar 29 17:08 .\n",
      "drwxr-xr-x 14 aa staff  448 Mar 29 17:08 ..\n",
      "drwxr-xr-x  9 aa staff  288 Mar 29 17:07 .git\n",
      "-rw-r--r--  1 aa staff 1250 Mar 29 17:08 check_bullet.png\n",
      "-rw-r--r--  1 aa staff 2411 Mar 29 17:08 index.html\n",
      "-rw-r--r--  1 aa staff  384 Mar 29 17:08 js1.js\n",
      "-rw-r--r--  1 aa staff  330 Mar 29 17:08 js2.js\n",
      "-rw-r--r--  1 aa staff    0 Mar 29 17:08 lib1.lib\n",
      "-rw-r--r--  1 aa staff    0 Mar 29 17:08 lib2.lib\n",
      "-rw-r--r--  1 aa staff  805 Mar 29 17:08 style1.css\n",
      "-rw-r--r--  1 aa staff   41 Mar 29 17:08 style2.css\n"
     ]
    }
   ],
   "source": [
    "# copy \"messy files\" to the current directory, i.e., '.'\n",
    "cp  -R ../messy-files/** .\n",
    "ls -la"
   ]
  },
  {
   "cell_type": "markdown",
   "metadata": {},
   "source": [
    "You should see the following files:\n",
    "- check_bullet.png\n",
    "- index.html\n",
    "- js1.js\n",
    "- js2.js\n",
    "- lib1.lib\n",
    "- lib2.lib\n",
    "- style1.css\n",
    "- style2.css"
   ]
  },
  {
   "cell_type": "markdown",
   "metadata": {},
   "source": [
    "Ok, so we just added a bunch of files to our directory. \n",
    "\n",
    "We have not yet told Git to track them - we can check this through the `git status` command."
   ]
  },
  {
   "cell_type": "code",
   "execution_count": 6,
   "metadata": {},
   "outputs": [
    {
     "name": "stdout",
     "output_type": "stream",
     "text": [
      "On branch master\n",
      "\n",
      "No commits yet\n",
      "\n",
      "Untracked files:\n",
      "  (use \"git add <file>...\" to include in what will be committed)\n",
      "\n",
      "\t\u001b[31mcheck_bullet.png\u001b[m\n",
      "\t\u001b[31mindex.html\u001b[m\n",
      "\t\u001b[31mjs1.js\u001b[m\n",
      "\t\u001b[31mjs2.js\u001b[m\n",
      "\t\u001b[31mlib1.lib\u001b[m\n",
      "\t\u001b[31mlib2.lib\u001b[m\n",
      "\t\u001b[31mstyle1.css\u001b[m\n",
      "\t\u001b[31mstyle2.css\u001b[m\n",
      "\n",
      "nothing added to commit but untracked files present (use \"git add\" to track)\n"
     ]
    }
   ],
   "source": [
    "git status"
   ]
  },
  {
   "cell_type": "markdown",
   "metadata": {},
   "source": [
    "Let's tell Git to track one of the files we just added - `index.html`."
   ]
  },
  {
   "cell_type": "code",
   "execution_count": 7,
   "metadata": {},
   "outputs": [
    {
     "name": "stdout",
     "output_type": "stream",
     "text": [
      "On branch master\n",
      "\n",
      "No commits yet\n",
      "\n",
      "Changes to be committed:\n",
      "  (use \"git rm --cached <file>...\" to unstage)\n",
      "\n",
      "\t\u001b[32mnew file:   index.html\u001b[m\n",
      "\n",
      "Untracked files:\n",
      "  (use \"git add <file>...\" to include in what will be committed)\n",
      "\n",
      "\t\u001b[31mcheck_bullet.png\u001b[m\n",
      "\t\u001b[31mjs1.js\u001b[m\n",
      "\t\u001b[31mjs2.js\u001b[m\n",
      "\t\u001b[31mlib1.lib\u001b[m\n",
      "\t\u001b[31mlib2.lib\u001b[m\n",
      "\t\u001b[31mstyle1.css\u001b[m\n",
      "\t\u001b[31mstyle2.css\u001b[m\n",
      "\n"
     ]
    }
   ],
   "source": [
    "# add index.html the staging area\n",
    "git add index.html\n",
    "\n",
    "# check status again\n",
    "git status"
   ]
  },
  {
   "cell_type": "markdown",
   "metadata": {},
   "source": [
    "Finally, we can _commit_ our changes. It is a good practice to use the `-m` option to succintly describe the changes we're making."
   ]
  },
  {
   "cell_type": "code",
   "execution_count": 8,
   "metadata": {},
   "outputs": [
    {
     "name": "stdout",
     "output_type": "stream",
     "text": [
      "[master (root-commit) 53790a2] my first commit: add index.html\n",
      " 1 file changed, 56 insertions(+)\n",
      " create mode 100644 index.html\n"
     ]
    }
   ],
   "source": [
    "git commit -m \"my first commit: add index.html\""
   ]
  },
  {
   "cell_type": "markdown",
   "metadata": {},
   "source": [
    "That's it! Our first commit. \n",
    "By commiting a change to our repository, it is now part of the repository's history and will be registered in the logs - unless it is explicitly deleted (out of scope of this workshop). \n",
    "\n",
    "We still need to track the remaining files - let's make a second commit to add them. Again, don't forget to add a clear message of what is changing."
   ]
  },
  {
   "cell_type": "code",
   "execution_count": 9,
   "metadata": {},
   "outputs": [
    {
     "name": "stdout",
     "output_type": "stream",
     "text": [
      "[master b6359fc] add remaining files from 'messy-files' project\n",
      " 7 files changed, 68 insertions(+)\n",
      " create mode 100644 check_bullet.png\n",
      " create mode 100644 js1.js\n",
      " create mode 100644 js2.js\n",
      " create mode 100644 lib1.lib\n",
      " create mode 100644 lib2.lib\n",
      " create mode 100644 style1.css\n",
      " create mode 100644 style2.css\n"
     ]
    }
   ],
   "source": [
    "# add all untracked changes to the staging area\n",
    "git add -A\n",
    "# commit the changes\n",
    "git commit -m \"add remaining files from 'messy-files' project\""
   ]
  },
  {
   "cell_type": "markdown",
   "metadata": {},
   "source": [
    "We can now check the repository's history with `git log`. We should see both commits and their respective descriptive messages."
   ]
  },
  {
   "cell_type": "code",
   "execution_count": 10,
   "metadata": {},
   "outputs": [
    {
     "name": "stdout",
     "output_type": "stream",
     "text": [
      "\u001b[33mcommit b6359fc856723a2c91c3a7ceb4f0bc99406cfdb5\u001b[m\u001b[33m (\u001b[m\u001b[1;36mHEAD -> \u001b[m\u001b[1;32mmaster\u001b[m\u001b[33m)\u001b[m\n",
      "Author: antonioalmeida <theantonioalmeida@gmail.com>\n",
      "Date:   Sun Mar 29 17:08:48 2020 +0100\n",
      "\n",
      "    add remaining files from 'messy-files' project\n",
      "\n",
      "\u001b[33mcommit 53790a27e80b379fcc5c227d5a132908a02d35bf\u001b[m\n",
      "Author: antonioalmeida <theantonioalmeida@gmail.com>\n",
      "Date:   Sun Mar 29 17:08:29 2020 +0100\n",
      "\n",
      "    my first commit: add index.html\n"
     ]
    }
   ],
   "source": [
    "# see the repository's entire history\n",
    "git log\n",
    "\n",
    "# Tip: try these alternatives \n",
    "#\n",
    "# show one line per commit\n",
    "#git log --oneline\n",
    "#\n",
    "# show the last commit, including changes\n",
    "#git log -p -1"
   ]
  },
  {
   "cell_type": "markdown",
   "metadata": {},
   "source": [
    "#### 2.1 Command Breakdown:\n",
    "**`git status`** - Displays generic information as well as the current status of the working tree and staging area of the repository.\n",
    "\n",
    "**`git add [file/directory]`** - Used to select changes in our _working tree_ to be added to the _staging area_. The working tree is the local file system part that's included in our git repository and the staging area is an abstraction of git that represents the changes when executing a `commit` command. The `-A` option stands for _all_ and means all changes in the working tree are added to the staging area. Although useful, don't make a habit of using the `-A` option.\n",
    "\n",
    "**`git commit`** - As the name implies, we are commiting to a change we made to the repository. Once you *commit*, the state of the repository will be registered and you can always restore it or check differences to the current state. Commits can be deleted but its not something you do on a regular basis as it's usualy easier to fix something rather than redoing everything else. The `-m` lets you add a message to your commit, these should usualy follow a protocol that lets you quicky understand what's beed added removed or modified with that commit.\n",
    "\n",
    "**`git log`** - The log command is a very powerfull one as it allows you to review the full history of your repository from the moment the init command was executed. If features plenty of options, including:\n",
    "\n",
    "- `--oneline` view each commit as a single line;\n",
    "- `-p` (patch) displays each commit's difference in the format of additions and deletions; \n",
    "- `-<number>` show only the lastest _n_ commits. Can be combined with other options, e.g. `git log -2 -p`;\n",
    "\n",
    "***WARNING***: if you ever commit a password or secret information to a repository even if you delete it in a later commit it will always be registered in the log as long as that commit is not deleted. This is a security risk in case anyone gets access to the .git directory. Secret information should be kept in a separate directory to the rest of the code and online platforms often offer support for secrets to be safely shared between developers."
   ]
  },
  {
   "cell_type": "markdown",
   "metadata": {},
   "source": [
    "### 3 - Making Changes"
   ]
  },
  {
   "cell_type": "markdown",
   "metadata": {},
   "source": [
    "Having all files in the root directory is very messy and hard to work with. To sort our files, we now create 3 folders: `css`, `js`, and `lib`. Then, let's move each file to its respective folder, according to its extension."
   ]
  },
  {
   "cell_type": "code",
   "execution_count": 11,
   "metadata": {},
   "outputs": [
    {
     "name": "stdout",
     "output_type": "stream",
     "text": [
      "total 8\n",
      "drwxr-xr-x  8 aa staff  256 Mar 29 17:09 .\n",
      "drwxr-xr-x 14 aa staff  448 Mar 29 17:08 ..\n",
      "drwxr-xr-x 12 aa staff  384 Mar 29 17:08 .git\n",
      "-rw-r--r--  1 aa staff 1250 Mar 29 17:08 check_bullet.png\n",
      "drwxr-xr-x  4 aa staff  128 Mar 29 17:09 css\n",
      "-rw-r--r--  1 aa staff 2411 Mar 29 17:08 index.html\n",
      "drwxr-xr-x  4 aa staff  128 Mar 29 17:09 js\n",
      "drwxr-xr-x  4 aa staff  128 Mar 29 17:09 lib\n"
     ]
    }
   ],
   "source": [
    "# create the three directories\n",
    "mkdir css\n",
    "mkdir js\n",
    "mkdir lib\n",
    "\n",
    "# move all JavaScript files to the js directory\n",
    "mv *.js js\n",
    "# move all CSS files to the css directory\n",
    "mv *.css css\n",
    "# move all .lib files to the lib directory\n",
    "mv *.lib lib\n",
    "\n",
    "# list current directory\n",
    "ls -la"
   ]
  },
  {
   "cell_type": "code",
   "execution_count": 12,
   "metadata": {},
   "outputs": [
    {
     "name": "stdout",
     "output_type": "stream",
     "text": [
      "On branch master\n",
      "Changes not staged for commit:\n",
      "  (use \"git add/rm <file>...\" to update what will be committed)\n",
      "  (use \"git checkout -- <file>...\" to discard changes in working directory)\n",
      "\n",
      "\t\u001b[31mdeleted:    js1.js\u001b[m\n",
      "\t\u001b[31mdeleted:    js2.js\u001b[m\n",
      "\t\u001b[31mdeleted:    lib1.lib\u001b[m\n",
      "\t\u001b[31mdeleted:    lib2.lib\u001b[m\n",
      "\t\u001b[31mdeleted:    style1.css\u001b[m\n",
      "\t\u001b[31mdeleted:    style2.css\u001b[m\n",
      "\n",
      "Untracked files:\n",
      "  (use \"git add <file>...\" to include in what will be committed)\n",
      "\n",
      "\t\u001b[31mcss/\u001b[m\n",
      "\t\u001b[31mjs/\u001b[m\n",
      "\t\u001b[31mlib/\u001b[m\n",
      "\n",
      "no changes added to commit (use \"git add\" and/or \"git commit -a\")\n"
     ]
    }
   ],
   "source": [
    "git status"
   ]
  },
  {
   "cell_type": "markdown",
   "metadata": {},
   "source": [
    "Because we changed the files into folders, Git has lost track of them - in fact, it thinks we deleted them. Again, this happens because we have made the changes in our filesystem, but we have not yet added them to the staging area."
   ]
  },
  {
   "cell_type": "code",
   "execution_count": 13,
   "metadata": {},
   "outputs": [
    {
     "name": "stdout",
     "output_type": "stream",
     "text": [
      "On branch master\n",
      "Changes to be committed:\n",
      "  (use \"git reset HEAD <file>...\" to unstage)\n",
      "\n",
      "\t\u001b[32mrenamed:    style1.css -> css/style1.css\u001b[m\n",
      "\t\u001b[32mrenamed:    style2.css -> css/style2.css\u001b[m\n",
      "\t\u001b[32mrenamed:    js1.js -> js/js1.js\u001b[m\n",
      "\t\u001b[32mrenamed:    js2.js -> js/js2.js\u001b[m\n",
      "\t\u001b[32mrenamed:    lib1.lib -> lib/lib1.lib\u001b[m\n",
      "\t\u001b[32mrenamed:    lib2.lib -> lib/lib2.lib\u001b[m\n",
      "\n"
     ]
    }
   ],
   "source": [
    "# add all changes to the staging area\n",
    "git add -A\n",
    "\n",
    "# check status\n",
    "git status"
   ]
  },
  {
   "cell_type": "markdown",
   "metadata": {},
   "source": [
    "Git now correctly identifies the changes we made. However, we won't commit these changes right away. \n",
    "\n",
    "As you probably might have noticed, we have added `.lib` files to our repository. In general, it is good practice to use Git to track code files *only* - that means common files present in software projects, such as binaries or cache files, should **not** be added. In this case, `.lib` files are Windows static libraries - why do we even have these here (?) -  so we should remove them from the repository. To do so, let's remove the `lib` directory from the staging area, using the `git reset` command."
   ]
  },
  {
   "cell_type": "code",
   "execution_count": 14,
   "metadata": {},
   "outputs": [
    {
     "name": "stdout",
     "output_type": "stream",
     "text": [
      "On branch master\n",
      "Changes to be committed:\n",
      "  (use \"git reset HEAD <file>...\" to unstage)\n",
      "\n",
      "\t\u001b[32mrenamed:    style1.css -> css/style1.css\u001b[m\n",
      "\t\u001b[32mrenamed:    style2.css -> css/style2.css\u001b[m\n",
      "\t\u001b[32mrenamed:    js1.js -> js/js1.js\u001b[m\n",
      "\t\u001b[32mrenamed:    js2.js -> js/js2.js\u001b[m\n",
      "\t\u001b[32mdeleted:    lib1.lib\u001b[m\n",
      "\t\u001b[32mdeleted:    lib2.lib\u001b[m\n",
      "\n",
      "Untracked files:\n",
      "  (use \"git add <file>...\" to include in what will be committed)\n",
      "\n",
      "\t\u001b[31mlib/\u001b[m\n",
      "\n"
     ]
    }
   ],
   "source": [
    "# remove lib from the staging area (or \"unstage\")\n",
    "git reset lib\n",
    "git status"
   ]
  },
  {
   "cell_type": "markdown",
   "metadata": {},
   "source": [
    "Looks good - the `lib` directory is now back in the \"Untracked files\" section. We can now commit our changes."
   ]
  },
  {
   "cell_type": "code",
   "execution_count": 15,
   "metadata": {},
   "outputs": [
    {
     "name": "stdout",
     "output_type": "stream",
     "text": [
      "[master 4f6d4d5] add js and css folders, remove .lib files\n",
      " 6 files changed, 0 insertions(+), 0 deletions(-)\n",
      " rename style1.css => css/style1.css (100%)\n",
      " rename style2.css => css/style2.css (100%)\n",
      " rename js1.js => js/js1.js (100%)\n",
      " rename js2.js => js/js2.js (100%)\n",
      " delete mode 100644 lib1.lib\n",
      " delete mode 100644 lib2.lib\n"
     ]
    }
   ],
   "source": [
    "git commit -m \"add js and css folders, remove .lib files\""
   ]
  },
  {
   "cell_type": "markdown",
   "metadata": {},
   "source": [
    "#### 3.1 - Command Breakdown\n",
    "\n",
    "**`mkdir`** - Already covered [here](#1.1-Command-Breakdown:);\n",
    "\n",
    "**`mv`** - **M**o**v**e, the same idea as presented [here](#Command-Breakdown:) but with some extra functionality. It appears we are moving a file named `*.js` - and there's no such file. Instead, all files that end in  `.js` are moved. In regular expressions, the `*` symbol is reserved as a wildcard and it represents \"any number of characters\". In this context, it means any file independently of its name will be selected to move as long as it ends in `.js`. The same aplies for the other terminations. \n",
    "\n",
    "**`git reset [file/directory]`** - this command resets the staging area, without changing the working tree. In other others, what we have added with `git add` will be removed, but our files will remain the same. **Tip:** using the command without arguments resets everything you added to the staging area.\n",
    "\n",
    "**WARNING:** the reset command provides a lot more functionality which at times may even delete changes you have made to the working tree and subsequently all work that has not been commited. Make sure you know what exactly you are doing before copying random commands from StackOverflow."
   ]
  },
  {
   "cell_type": "markdown",
   "metadata": {},
   "source": [
    "### 4 - Ignoring Files\n",
    "\n",
    "> _\"Friends don't let friends upload `.DS_Store` files\"_ - A good friend.\n",
    "\n",
    "Now, we know we don't ever want to add the `lib` directory to our repository. We're in luck - we can explicitly tell Git to ignore certain files or directories through a special file named **`.gitignore`**. Everything listed in this file will **not** ever be tracked.\n",
    "\n",
    "In this case, let's create a `.gitignore` file and add a `lib` entry to it. "
   ]
  },
  {
   "cell_type": "code",
   "execution_count": 16,
   "metadata": {},
   "outputs": [
    {
     "name": "stdout",
     "output_type": "stream",
     "text": [
      "[master b4247e5] add .gitignore file with 'lib' entry\n",
      " 1 file changed, 1 insertion(+)\n",
      " create mode 100644 .gitignore\n",
      "On branch master\n",
      "nothing to commit, working tree clean\n"
     ]
    }
   ],
   "source": [
    "# create a .gitignore file with 'lib' in the first line  \n",
    "echo \"lib\" >> .gitignore\n",
    "\n",
    "# commit the .gitignore file\n",
    "git add .gitignore\n",
    "git commit -m \"add .gitignore file with 'lib' entry\"\n",
    "\n",
    "# check status \n",
    "git status"
   ]
  },
  {
   "cell_type": "markdown",
   "metadata": {},
   "source": [
    "#### 4.1 Command Breakdown\n",
    "\n",
    "##### TODO: TMI?\n",
    "**`echo`** - This command is used to print information to the shell. When combined with the \">>\" pipe it is very useful to dump information in files. So, the complete command writes the \"/lib\" which is redirected using \">>\" to the file named \".gitignore\", if the file doesn't exist it is created. The pipe \">\" also exists and the difference is that it appends while \">>\" overwrites the whole file if it already exists. Obviously, further on you will ignore files using the \\\">\\\" pipe."
   ]
  },
  {
   "cell_type": "markdown",
   "metadata": {},
   "source": [
    "### 5 - Parallel Work - Branching and Merging \n",
    "\n",
    "> _\"No one touches `main.c`, I'm adding a feature!\"_ - Non Git users.\n",
    "\n",
    "Branching is the great feature of Git that allows us to work in parallel in different or even overlapping sections of code with relative independence. It is specially useful in team based projects, where people need to work simultaneously without interfering with others' work. \n",
    "\n",
    "#### What is a branch?\n",
    "Every repository starts with a default branch called `master` - typically considered the main line of development. When you create and work in a different branch, think of a it as a divergence from the main line of development - here, you can continue to do work without messing with that main line. \n",
    "\n",
    "You typically create a branch when working on a new feature or bug fix. When you decide the code is finished (and tested), you _merge_ it back to the source branch.\n",
    "\n",
    "<img src=\"res/git-branches.png\" width=\"600px\"/>\n",
    "\n",
    "_Figure 1:_ Illustration of a simple branch usage. Each node represents a commit. [Source](https://davidjcastner.github.io/git-tutorial/Lab3)\n",
    "\n",
    "#### Typical Workflow\n",
    "Let's assume the current state of code is in the `master` branch. Every time you want to create a new awesome feature for the project, a simplified workflow is as follows:\n",
    "\n",
    "1. Create a branch for the feature - `git branch feature-name`\n",
    "2. Do some work in that branch - **writes code** \n",
    "3. After it's tested, _merge_ your changes into the original branch - in this case, `master`."
   ]
  },
  {
   "cell_type": "markdown",
   "metadata": {},
   "source": [
    "We'll follow this workflow with an example in our ongoing project. Something is off with the styling - it's a bug in the `css/style2.css` file. Let's fix it.\n",
    "\n",
    "We can check in what branch we are currently in with the `git branch` command."
   ]
  },
  {
   "cell_type": "code",
   "execution_count": 17,
   "metadata": {},
   "outputs": [
    {
     "name": "stdout",
     "output_type": "stream",
     "text": [
      "* \u001b[32mmaster\u001b[m\n"
     ]
    }
   ],
   "source": [
    "# check the current branch\n",
    "git branch"
   ]
  },
  {
   "cell_type": "markdown",
   "metadata": {},
   "source": [
    "As expected, we're in the `master` branch. Let's create a branch and use it to edit the `css/style2.css` file.\n",
    "\n",
    "**Tip:** Branches are typically named after what they are created for. Just like code variables, give your branches understandable names instead of \"abcd\". Ideally, use a [branch naming convention](https://nvie.com/posts/a-successful-git-branching-model/)."
   ]
  },
  {
   "cell_type": "code",
   "execution_count": 21,
   "metadata": {},
   "outputs": [
    {
     "name": "stdout",
     "output_type": "stream",
     "text": [
      "M\tcss/style2.css\n",
      "Switched to branch 'fix-style2'\n",
      "* \u001b[32mfix-style2\u001b[m\n",
      "  fix-styles2\u001b[m\n",
      "  master\u001b[m\n"
     ]
    }
   ],
   "source": [
    "# create a branch called fix-style2\n",
    "git branch fix-style2\n",
    "\n",
    "# checkout the created branch\n",
    "git checkout fix-style2\n",
    "\n",
    "# confirm that we are now working in the fix-style2 branch\n",
    "git branch"
   ]
  },
  {
   "cell_type": "markdown",
   "metadata": {},
   "source": [
    "As the `*` indicates, we are now working in the new branch. \n",
    "\n",
    "Let's edit the `css/style2.css` file to make the text-align property to be \"center\" instead of \"unset\", then commit the changes.\n",
    "\n",
    "**Your turn.** Try this one on your own. Remember:\n",
    "- Edit the `css/style2.css` file;\n",
    "- Add the file to the staging area;\n",
    "- Commit your changes - don't forget to set a clear message.\n",
    "\n",
    "Edit the cell below with the necessary commands. If you're stuck, you can find the answer at the end of the notebook."
   ]
  },
  {
   "cell_type": "code",
   "execution_count": 22,
   "metadata": {},
   "outputs": [
    {
     "name": "stdout",
     "output_type": "stream",
     "text": [
      "[fix-style2 988e5b6] change text-align to center\n",
      " 1 file changed, 1 insertion(+), 1 deletion(-)\n"
     ]
    }
   ],
   "source": [
    "# Edit the css/styles2.css file\n",
    "# (use the browser editor)\n",
    "\n",
    "# Add the file to the staging area\n",
    "git add css/style2.css\n",
    "\n",
    "# commit your changes\n",
    "git commit -m \"change text-align to center\""
   ]
  },
  {
   "cell_type": "markdown",
   "metadata": {},
   "source": [
    "Our fix is now complete. \n",
    "\n",
    "We can now go back to the `master` branch and merge the `fix-style2` branch into it."
   ]
  },
  {
   "cell_type": "code",
   "execution_count": 23,
   "metadata": {},
   "outputs": [
    {
     "name": "stdout",
     "output_type": "stream",
     "text": [
      "Switched to branch 'master'\n",
      "Updating b4247e5..988e5b6\n",
      "Fast-forward\n",
      " css/style2.css | 2 \u001b[32m+\u001b[m\u001b[31m-\u001b[m\n",
      " 1 file changed, 1 insertion(+), 1 deletion(-)\n"
     ]
    }
   ],
   "source": [
    "# go to the master branch\n",
    "git checkout master\n",
    "\n",
    "# merge fix-style2 into master\n",
    "git merge fix-style2"
   ]
  },
  {
   "cell_type": "markdown",
   "metadata": {},
   "source": [
    "#### 5.1 Command Breakdown:\n",
    "**`git branch [branch-name]`**\n",
    "   - without arguments - displays the list of local branches and signals which one is currently selected; \n",
    "   - with argument - creates a new branch with the argument name.\n",
    "\n",
    "**`git checkout`** - Checkout combined with branching is one of the features that makes Git a lot more powerful that just any file system. With the `checkout` command we can immediately change our working tree to a different branch or specific commit. Because you can always go back to any point in \"history\", you don't have to worry about losing code or having to keep track of changes to see how things were working before. \n",
    "\n",
    "**Tip:** Be careful when using the `checkout` command with changes you have not yet commited - they will be lost forever. Git [helps avoiding this](https://git-scm.com/docs/git-stash), but it is not covered in this workshop.\n",
    "\n",
    "**``git merge <branch-name>``** - Merge a branch **into the current branch**. It will try to automatically put together and resolve differences in the files from the parameter branch and into the current branch. There are several options you an explore and even specific strategies to use when merging, but it's never perfect and conflicts often arise. After the command is successfully executed, the current branch will be up to date with all the changes made in the parameter branch."
   ]
  },
  {
   "cell_type": "markdown",
   "metadata": {},
   "source": [
    "## TODO: from here.\n",
    "We will now return to our master branch and assume another person, who is not as experienced using Git already edited the same file in this branch."
   ]
  },
  {
   "cell_type": "code",
   "execution_count": null,
   "metadata": {},
   "outputs": [],
   "source": [
    "git checkout master\n",
    "\n",
    "# TODO: edit file from terminal (?)\n",
    "##(edit styles2.css so that text-align is different than \"center\")\n",
    "\n",
    "git add css/styles2.css\n",
    "git commit -m \"Improve styles2 in master (bc idk what i'm doing)\""
   ]
  },
  {
   "cell_type": "markdown",
   "metadata": {},
   "source": [
    "#### 4.3 Command Breakdown\n",
    "**git checkout** - Referenced [here](#4.1-Command-Breakdown)\n",
    "\n",
    "**git add** - Referenced [here](#3.2-Command-Breakdown)\n",
    "\n",
    "**git commit** - Referenced [here](#3.2-Command-Breakdown)"
   ]
  },
  {
   "cell_type": "markdown",
   "metadata": {},
   "source": [
    "We will now try to merge our changes in branch \"improve_styles2\" with our master branch and will run into a merge conflict because the same part of the same file has been edited in the two branhces (master and improve_styles2). At this stage we can make use of git status to make sure what our problems are and address them.\n",
    "\n",
    "To solve this problem there are various possible solution but the result is always the same, we have to edit the styles2.css file and remove the characters added by Git signaling the conflict. In this situation we will choose to keep our change from branch improve_styles2."
   ]
  },
  {
   "cell_type": "code",
   "execution_count": null,
   "metadata": {},
   "outputs": [],
   "source": [
    "## TODO: split these commands?\n",
    "\n",
    "git merge improve_styles2\n",
    "##(conflicts showup, merge is interrupted)\n",
    "git status\n",
    "##(edit styles2.css)\n",
    "git add css/styles2.css\n",
    "\n",
    "##(after all conflicts are resolved we may continue the merge with the command below or perform an explicit commit)\n",
    "git merge --continue\n",
    "git status"
   ]
  },
  {
   "cell_type": "markdown",
   "metadata": {},
   "source": [
    "#### 5.4 Command Breakdown\n",
    "**git merge** - Merge is one of the most powerful commands in git. As the name indicates it alows us to merge or bring together two different versions of our files. It wil try to automatically put together and resolve differences in the files from the parameter branch and into our current branch. There are several options you an explore and even specific strategies to use when merging, but it's never perfect and conflicts can arise often as you've experienced. After the command is succsessfully completed the current branch will be up to date with all the changes made in the parameter branch.\n",
    "\n",
    "**git status** - Referenced [here](#3.1-Command-Breakdown)\n",
    "\n",
    "**git add** - Referenced [here](#3.2-Command-Breakdown)"
   ]
  },
  {
   "cell_type": "markdown",
   "metadata": {},
   "source": [
    "### 6 - Remote repository (25min)\n",
    "\n",
    "Git works well at a local level but it wouldn't mean much if we couldn't work with other people. So we want to make our repository available online. In this workshop we will make use of GitHub an online free-to-use platform for hosting git repositories. Start by creating your accounts (if you don't have one already). Create an <strong>empty</strong> repository with a name of your choosing. After completing this steps lets add this repository as the remote for the local one we have been working on.\n"
   ]
  },
  {
   "cell_type": "code",
   "execution_count": null,
   "metadata": {},
   "outputs": [],
   "source": [
    "git remote add origin git@github.com:[yourusername]/[repositoryname].git\n",
    "git remote -v\n",
    "git push origin master"
   ]
  },
  {
   "cell_type": "markdown",
   "metadata": {},
   "source": [
    "#### 6.1 Command Breakdown\n",
    "**git remote add** - The **git remote** command provides access to network accessable repositories and all configurations related to these. Here we make use of subcommand add to register our GitHub repository, with the name \\\"origin\\\" as a remote instance of the local repository we have been working on.\n",
    "\n",
    "**git push** - The git push command is used to update remote repositories with our local changes. This time we are pushing our changes to the local master branch to the remote repository we named origin and the branch master.  This can originate conflicts in case someone already pushed changes to the same branch we are using and we still haven't updated our local version with those."
   ]
  },
  {
   "cell_type": "markdown",
   "metadata": {},
   "source": [
    "As expected you get an authentication error because the Github remote we just set up needs ssh keys to work. The pair of public/private keys that is generated allows git hub to verify that it's you who is accessing the repository and hence guarantee authentication without username/password. The way to generate these is runnign following command:\n"
   ]
  },
  {
   "cell_type": "code",
   "execution_count": null,
   "metadata": {},
   "outputs": [],
   "source": [
    "# GitHub recomends the following key generation method, however, you can stick with just ssh-keygen\n",
    "ssh-keygen -t rsa -b 4096 -C \\\"your_email@example.com\\\"\n",
    "\n",
    "cat ~/.ssh/id_rsa.pub #(or the save path you specified)\n",
    "ssh-add ~/.ssh/id_rsa"
   ]
  },
  {
   "cell_type": "markdown",
   "metadata": {},
   "source": [
    "#### 6.2 Command Breakdown\n",
    "\n",
    "**ssh-keygen** - ssh-keygen is a command that comes pre-installed with most linux distributions and provides an user friendly way of generating several types of encryption keys. In this example we use the default key pair, RSA, and recommend using the default save path and you may choose to protect the key with a password. Encryption keys are a complex subject that veer too much from the topic of this workshop so we suggest you look these up by yourself.\n",
    "\n",
    "**cat** - Con**cat**tenate, is a very flexible command that we are using to display the contents of the file that contains the public part of the key pair we just generated. It's very important to remember that we should only ever share the public pieces of any key as having access to the private one would mean we could be impersonated by the holder of that key. Most key files are named \\\".pub\\\" to signal they are the public part of the key.\n",
    "\n",
    "**ssh-add** - ssh-add, as the name implies, **add**s the **ssh** key to the ssh-agent, that, if not running, start it in the background by running `eval \"$(ssh-agent -s)\"`"
   ]
  },
  {
   "cell_type": "markdown",
   "metadata": {},
   "source": [
    "\n",
    "Using the cat command we can now copy the generated **public key** and copy it into the github configuration in the \"SSH and GPG Keys\" section in settings. We should now be able to freely access our repository!\n"
   ]
  },
  {
   "cell_type": "code",
   "execution_count": null,
   "metadata": {},
   "outputs": [],
   "source": [
    "git push origin master\n",
    "git push\n",
    "\n",
    "# TODO: split these?\n",
    "# (fails due to the lack of a default upstream, lets set it)\n",
    "git branch -u origin/master"
   ]
  },
  {
   "cell_type": "markdown",
   "metadata": {},
   "source": [
    "#### 6.3 Command Breakdown\n",
    "**git push** - push should now use the registered ssh key for authentication in GitHub, but if we use push with no arguments we will get an error that we have no registered upstream for the current branch. That happens because push uses the remote named origin by default but has no specific knowledge of the branch we want to push our local master to.\n",
    "\n",
    "**git branch** - Using **branch** with the option \\\"u\\\" (upstream) we can set the corresponding remote for our local master in the origin remote's master branch"
   ]
  },
  {
   "cell_type": "markdown",
   "metadata": {},
   "source": [
    "\n",
    "Lets now assume someone else made a change to our repository and we want to get those changes in our own computer. To simulate this lets use GitHub to add a README.md file in our main repository page. Afterwards in our computer we can use fetch to retrieve all updates from our repository without changing the working tree. For the changes to take effect we must merge them.\n"
   ]
  },
  {
   "cell_type": "code",
   "execution_count": null,
   "metadata": {},
   "outputs": [],
   "source": [
    "git fetch\n",
    "git log --oneline --all\n",
    "git merge origin/master\n",
    "git log --oneline --all"
   ]
  },
  {
   "cell_type": "markdown",
   "metadata": {},
   "source": [
    "**git fetch** - This command will get all the changes from the default remote (with no parameters) but will not change our local working tree, in other words it just retrieves all the changes that have been made to the remote without ever changing any local files.\n",
    "\n",
    "**git merge** - Referenced [here](#5.4-Command-Breakdown)\n",
    "\n",
    "**git log** - Referenced [here](#4.3-Command-Breakdown)"
   ]
  },
  {
   "cell_type": "markdown",
   "metadata": {},
   "source": [
    "The process of fetching and merging can be reduced to the **git pull** command which will perform both of these commands and try to merge changes automatically.\n",
    "\n",
    "If you want to improve this workshop, or just to check it out on GitHub (you can also leave a star ⭐), you can do it [here](https://github.com/acmfeup/git-workshop).\n",
    "\n",
    "If you enjoyed this workshop and would like to help us creating more projects, workshops, conferences and others, please do not hesitate in contacting us through one of our various social media platforms, or emailing us @ [neacm@fe.up.pt](mailto:neacm@fe.up.pt)."
   ]
  },
  {
   "cell_type": "markdown",
   "metadata": {},
   "source": [
    "#### Appendix\n",
    "\n",
    "##### Answer\n",
    "```shell\n",
    "# Add the file to the staging area\n",
    "git add css/styles2.css\n",
    "\n",
    "# commit your changes\n",
    "git commit -m \"set align to center\"\n",
    "```"
   ]
  }
 ],
 "metadata": {
  "kernelspec": {
   "display_name": "Bash",
   "language": "bash",
   "name": "bash"
  },
  "language_info": {
   "codemirror_mode": "shell",
   "file_extension": ".sh",
   "mimetype": "text/x-sh",
   "name": "bash"
  }
 },
 "nbformat": 4,
 "nbformat_minor": 4
}
